{
 "cells": [
  {
   "cell_type": "code",
   "execution_count": 1,
   "id": "dd4ce834",
   "metadata": {},
   "outputs": [
    {
     "name": "stdout",
     "output_type": "stream",
     "text": [
      "Select vehicle:\n",
      "1 car\n",
      "2 truck\n",
      "3 plane\n",
      "4 boat\n",
      "5 broomstick\n",
      "Enter option: 1\n",
      "Enter make: jeep\n",
      "Enter model: wrangler\n",
      "Enter year: 2011\n",
      "Enter doors: 4\n",
      "Type of roof: sunroof\n",
      "Vehicle type: car\n",
      "Year: 2011\n",
      "Make: jeep\n",
      "Model: wrangler\n",
      "Doors: 4\n",
      "sunroof: sunroof\n"
     ]
    }
   ],
   "source": [
    "\"\"\"\n",
    "Write a Python app that has the following classes:\n",
    "A super class called Vehicle, which contains an attribute for vehicle type, such as car, truck, plane, boat, or a broomstick.\n",
    "A class called Automobile which will inherit the attributes from Vehicle and also contain the following attributes:\n",
    "year\n",
    "make\n",
    "model\n",
    "doors (2 or 4)\n",
    "roof (solid or sun roof).\n",
    "Write an app that will accept user input for a car. The app will store \"car\" into the vehicle type in your Vehicle super class.\n",
    "The app will then ask the user for the year, make, model, doors, and type of roof and store thdata in the attributes above.\n",
    "The app will then output the data in an easy-to-read and understandable format, such as this:\n",
    "  Vehicle type: car\n",
    "  Year: 2022\n",
    "  Make: Toyota\n",
    "  Model: Corolla\n",
    "  Number of doors: 4\n",
    "  Type of roof: sun roof\n",
    "\"\"\"\n",
    "\n",
    "class Vehicle:\n",
    "    def __init__(self, type):#all objects have defined methods.\n",
    "        self.type = type\n",
    "\n",
    "    def printType(self):\n",
    "        print('Vehicle type:', self.type)\n",
    "\n",
    "class Automobile(Vehicle): #inherit from vehicle class\n",
    "    def __init__(self, type, make, model, year, doors, sunroof):#all objects have defined methods.\n",
    "        super().__init__(type)\n",
    "        self.make = make\n",
    "        self.model = model\n",
    "        self.year = year\n",
    "        self.doors = doors\n",
    "        self.sunroof = sunroof\n",
    "\n",
    "    def print(self):\n",
    "        self.printType()\n",
    "        print(\"Year:\", self.year)\n",
    "        print('Make:', self.make)\n",
    "        print('Model:', self.model)\n",
    "        print('Doors:', self.doors)\n",
    "        print('sunroof:', self.sunroof)\n",
    "\n",
    "\n",
    "\n",
    "\n",
    "\n",
    "vehicleType = ['car', 'truck', 'plane', 'boat', 'broomstick']\n",
    "print(\"Select vehicle:\")\n",
    "count = 1\n",
    "for vehicle in vehicleType:\n",
    "    print(count, vehicle)\n",
    "    count = count+1\n",
    "option = int(input(\"Enter option: \"))\n",
    "make = input('Enter make: ')\n",
    "model = input('Enter model: ')\n",
    "year = int(input(\"Enter year: \"))\n",
    "doors = int(input(\"Enter doors: \"))\n",
    "sunroof = input('Type of roof: ')\n",
    "userAuto = Automobile(vehicleType[option-1], make, model, year, doors, sunroof)\n",
    "userAuto.print()\n"
   ]
  },
  {
   "cell_type": "code",
   "execution_count": null,
   "id": "aaa1fb4d",
   "metadata": {},
   "outputs": [],
   "source": []
  }
 ],
 "metadata": {
  "kernelspec": {
   "display_name": "Python 3 (ipykernel)",
   "language": "python",
   "name": "python3"
  },
  "language_info": {
   "codemirror_mode": {
    "name": "ipython",
    "version": 3
   },
   "file_extension": ".py",
   "mimetype": "text/x-python",
   "name": "python",
   "nbconvert_exporter": "python",
   "pygments_lexer": "ipython3",
   "version": "3.9.12"
  }
 },
 "nbformat": 4,
 "nbformat_minor": 5
}
