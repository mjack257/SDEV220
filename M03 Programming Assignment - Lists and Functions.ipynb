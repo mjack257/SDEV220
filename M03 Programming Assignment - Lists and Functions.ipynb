{
 "cells": [
  {
   "cell_type": "code",
   "execution_count": 1,
   "id": "717d63f7",
   "metadata": {},
   "outputs": [
    {
     "name": "stdout",
     "output_type": "stream",
     "text": [
      "['mozzarella', 'cinderella', 'salmonella']\n"
     ]
    }
   ],
   "source": [
    "#7.4 Make a list called things with these 3 strings as elements\n",
    "things = [\"mozzarella\", \"cinderella\", \"salmonella\"]\n",
    "print(things)"
   ]
  },
  {
   "cell_type": "code",
   "execution_count": 3,
   "id": "e8ae01d3",
   "metadata": {},
   "outputs": [
    {
     "name": "stdout",
     "output_type": "stream",
     "text": [
      "['mozzarella', 'CINDERELLA', 'salmonella']\n"
     ]
    }
   ],
   "source": [
    "#7.5 Capitlize the elemment in things that refers to a person and then print the list.\n",
    "things = [\"mozzarella\", \"CINDERELLA\", \"salmonella\"]\n",
    "print(things)"
   ]
  },
  {
   "cell_type": "code",
   "execution_count": 4,
   "id": "6226a84b",
   "metadata": {},
   "outputs": [],
   "source": [
    "#7.5 cont. No it done change the list\n"
   ]
  },
  {
   "cell_type": "code",
   "execution_count": 5,
   "id": "99aa7331",
   "metadata": {},
   "outputs": [
    {
     "ename": "SyntaxError",
     "evalue": "Missing parentheses in call to 'print'. Did you mean print(things[0])? (1613279036.py, line 4)",
     "output_type": "error",
     "traceback": [
      "\u001b[1;36m  Input \u001b[1;32mIn [5]\u001b[1;36m\u001b[0m\n\u001b[1;33m    print things[0]\u001b[0m\n\u001b[1;37m          ^\u001b[0m\n\u001b[1;31mSyntaxError\u001b[0m\u001b[1;31m:\u001b[0m Missing parentheses in call to 'print'. Did you mean print(things[0])?\n"
     ]
    }
   ],
   "source": [
    "#7.6\n",
    "things = [\"MOZZARELLA\", \"CINDERELLA\", \"salmonella\"]\n",
    "for cheese in things:\n",
    "    print things[0]"
   ]
  },
  {
   "cell_type": "code",
   "execution_count": 6,
   "id": "f37d2598",
   "metadata": {},
   "outputs": [
    {
     "name": "stdout",
     "output_type": "stream",
     "text": [
      "MOZZARELLA\n"
     ]
    }
   ],
   "source": [
    "#7.6\n",
    "things = [\"MOZZARELLA\", \"CINDERELLA\", \"salmonella\"]\n",
    "for cheese in things:\n",
    "    print(things[0])\n",
    "    break"
   ]
  },
  {
   "cell_type": "code",
   "execution_count": 7,
   "id": "749edd8c",
   "metadata": {},
   "outputs": [
    {
     "name": "stdout",
     "output_type": "stream",
     "text": [
      "Collect your Nobel Prize\n",
      "['MOZZARELLA', 'CINDERELLA']\n"
     ]
    }
   ],
   "source": [
    "#7.7\n",
    "things = [\"MOZZARELLA\", \"CINDERELLA\", \"salmonella\"]\n",
    "things.remove('salmonella')\n",
    "print('Collect your Nobel Prize')\n",
    "print(things)"
   ]
  },
  {
   "cell_type": "code",
   "execution_count": 8,
   "id": "53f1ce03",
   "metadata": {},
   "outputs": [
    {
     "name": "stdout",
     "output_type": "stream",
     "text": [
      "Harry Ron Hermione\n"
     ]
    }
   ],
   "source": [
    "#9.1\n",
    "def good ():\n",
    "    print('Harry', 'Ron', 'Hermione')\n",
    "\n",
    "good()"
   ]
  },
  {
   "cell_type": "code",
   "execution_count": 9,
   "id": "1fff0af9",
   "metadata": {},
   "outputs": [
    {
     "name": "stdout",
     "output_type": "stream",
     "text": [
      "1\n",
      "3\n",
      "5\n",
      "7\n",
      "9\n"
     ]
    }
   ],
   "source": [
    "#9.2\n",
    "def get_odds():\n",
    "    for i in range(1, 11):\n",
    "        if i %2  != 0: #modulas returns a remainder\n",
    "            print(i)\n",
    "get_odds()"
   ]
  },
  {
   "cell_type": "code",
   "execution_count": null,
   "id": "f477c951",
   "metadata": {},
   "outputs": [],
   "source": []
  }
 ],
 "metadata": {
  "kernelspec": {
   "display_name": "Python 3 (ipykernel)",
   "language": "python",
   "name": "python3"
  },
  "language_info": {
   "codemirror_mode": {
    "name": "ipython",
    "version": 3
   },
   "file_extension": ".py",
   "mimetype": "text/x-python",
   "name": "python",
   "nbconvert_exporter": "python",
   "pygments_lexer": "ipython3",
   "version": "3.9.12"
  }
 },
 "nbformat": 4,
 "nbformat_minor": 5
}
