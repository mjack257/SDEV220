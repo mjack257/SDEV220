{
 "cells": [
  {
   "cell_type": "code",
   "execution_count": 1,
   "id": "997131fb",
   "metadata": {},
   "outputs": [
    {
     "data": {
      "text/plain": [
       "datetime.date(2022, 7, 18)"
      ]
     },
     "execution_count": 1,
     "metadata": {},
     "output_type": "execute_result"
    }
   ],
   "source": [
    "\"\"\"   \n",
    "13.1 Write the current date as a string to the text file today.txt.\n",
    "\n",
    "13.2 Read the text file today.txt into the string today_string.\n",
    "\n",
    "13.3 Parse the date from today_string.\n",
    "\n",
    "15.1 Use multiprocessing to create three separate processes.\n",
    "Make each one wait a random number of seconds \n",
    "between zero and one, print the current time, and then exit.\n",
    "\"\"\"\n",
    "\n",
    "from datetime import date\n",
    "now = date.today()\n",
    "now\n"
   ]
  },
  {
   "cell_type": "code",
   "execution_count": 2,
   "id": "31ac13ca",
   "metadata": {},
   "outputs": [
    {
     "data": {
      "text/plain": [
       "'2022-07-18'"
      ]
     },
     "execution_count": 2,
     "metadata": {},
     "output_type": "execute_result"
    }
   ],
   "source": [
    "now.isoformat()"
   ]
  },
  {
   "cell_type": "code",
   "execution_count": 6,
   "id": "edd1af25",
   "metadata": {},
   "outputs": [
    {
     "data": {
      "text/plain": [
       "<function TextIOWrapper.close()>"
      ]
     },
     "execution_count": 6,
     "metadata": {},
     "output_type": "execute_result"
    }
   ],
   "source": [
    "today = now.isoformat\n",
    "file = open(\"datefile.txt\", \"a\")\n",
    "file.write(str(today))\n",
    "file.close"
   ]
  },
  {
   "cell_type": "code",
   "execution_count": 9,
   "id": "9607e0a3",
   "metadata": {},
   "outputs": [
    {
     "data": {
      "text/plain": [
       "<function TextIOWrapper.close()>"
      ]
     },
     "execution_count": 9,
     "metadata": {},
     "output_type": "execute_result"
    }
   ],
   "source": [
    "#13.1\n",
    "from datetime import datetime\n",
    "\n",
    "\n",
    "now = datetime.now()\n",
    "file = open(\"datefile.txt\", \"w\")\n",
    "file.write(now.strftime(\"%m/%d/%Y\"))\n",
    "file.close"
   ]
  },
  {
   "cell_type": "code",
   "execution_count": 10,
   "id": "eca5abae",
   "metadata": {},
   "outputs": [
    {
     "name": "stdout",
     "output_type": "stream",
     "text": [
      "\n"
     ]
    }
   ],
   "source": [
    "#13.2\n",
    "from datetime import datetime\n",
    "\n",
    "\n",
    "\n",
    "now = datetime.now()\n",
    "file = open(\"datefile.txt\", \"r\")\n",
    "todaystring = file.readline()\n",
    "file.close\n",
    "print(todaystring)\n",
    "\n"
   ]
  },
  {
   "cell_type": "code",
   "execution_count": 11,
   "id": "1e97d288",
   "metadata": {},
   "outputs": [
    {
     "ename": "ValueError",
     "evalue": "time data '' does not match format '%m/%d/%Y'",
     "output_type": "error",
     "traceback": [
      "\u001b[1;31m---------------------------------------------------------------------------\u001b[0m",
      "\u001b[1;31mValueError\u001b[0m                                Traceback (most recent call last)",
      "Input \u001b[1;32mIn [11]\u001b[0m, in \u001b[0;36m<cell line: 10>\u001b[1;34m()\u001b[0m\n\u001b[0;32m      8\u001b[0m todaystring \u001b[38;5;241m=\u001b[39m file\u001b[38;5;241m.\u001b[39mreadline()\n\u001b[0;32m      9\u001b[0m file\u001b[38;5;241m.\u001b[39mclose\n\u001b[1;32m---> 10\u001b[0m parsedate \u001b[38;5;241m=\u001b[39m \u001b[43mdatetime\u001b[49m\u001b[38;5;241;43m.\u001b[39;49m\u001b[43mstrptime\u001b[49m\u001b[43m(\u001b[49m\u001b[43mtodaystring\u001b[49m\u001b[43m,\u001b[49m\u001b[43m \u001b[49m\u001b[38;5;124;43m\"\u001b[39;49m\u001b[38;5;124;43m%\u001b[39;49m\u001b[38;5;124;43mm/\u001b[39;49m\u001b[38;5;132;43;01m%d\u001b[39;49;00m\u001b[38;5;124;43m/\u001b[39;49m\u001b[38;5;124;43m%\u001b[39;49m\u001b[38;5;124;43mY\u001b[39;49m\u001b[38;5;124;43m\"\u001b[39;49m\u001b[43m)\u001b[49m\n\u001b[0;32m     11\u001b[0m \u001b[38;5;28mprint\u001b[39m(\u001b[38;5;28mstr\u001b[39m(parsedate))\n",
      "File \u001b[1;32m~\\anaconda3\\lib\\_strptime.py:568\u001b[0m, in \u001b[0;36m_strptime_datetime\u001b[1;34m(cls, data_string, format)\u001b[0m\n\u001b[0;32m    565\u001b[0m \u001b[38;5;28;01mdef\u001b[39;00m \u001b[38;5;21m_strptime_datetime\u001b[39m(\u001b[38;5;28mcls\u001b[39m, data_string, \u001b[38;5;28mformat\u001b[39m\u001b[38;5;241m=\u001b[39m\u001b[38;5;124m\"\u001b[39m\u001b[38;5;132;01m%a\u001b[39;00m\u001b[38;5;124m \u001b[39m\u001b[38;5;124m%\u001b[39m\u001b[38;5;124mb \u001b[39m\u001b[38;5;132;01m%d\u001b[39;00m\u001b[38;5;124m \u001b[39m\u001b[38;5;124m%\u001b[39m\u001b[38;5;124mH:\u001b[39m\u001b[38;5;124m%\u001b[39m\u001b[38;5;124mM:\u001b[39m\u001b[38;5;124m%\u001b[39m\u001b[38;5;124mS \u001b[39m\u001b[38;5;124m%\u001b[39m\u001b[38;5;124mY\u001b[39m\u001b[38;5;124m\"\u001b[39m):\n\u001b[0;32m    566\u001b[0m     \u001b[38;5;124;03m\"\"\"Return a class cls instance based on the input string and the\u001b[39;00m\n\u001b[0;32m    567\u001b[0m \u001b[38;5;124;03m    format string.\"\"\"\u001b[39;00m\n\u001b[1;32m--> 568\u001b[0m     tt, fraction, gmtoff_fraction \u001b[38;5;241m=\u001b[39m \u001b[43m_strptime\u001b[49m\u001b[43m(\u001b[49m\u001b[43mdata_string\u001b[49m\u001b[43m,\u001b[49m\u001b[43m \u001b[49m\u001b[38;5;28;43mformat\u001b[39;49m\u001b[43m)\u001b[49m\n\u001b[0;32m    569\u001b[0m     tzname, gmtoff \u001b[38;5;241m=\u001b[39m tt[\u001b[38;5;241m-\u001b[39m\u001b[38;5;241m2\u001b[39m:]\n\u001b[0;32m    570\u001b[0m     args \u001b[38;5;241m=\u001b[39m tt[:\u001b[38;5;241m6\u001b[39m] \u001b[38;5;241m+\u001b[39m (fraction,)\n",
      "File \u001b[1;32m~\\anaconda3\\lib\\_strptime.py:349\u001b[0m, in \u001b[0;36m_strptime\u001b[1;34m(data_string, format)\u001b[0m\n\u001b[0;32m    347\u001b[0m found \u001b[38;5;241m=\u001b[39m format_regex\u001b[38;5;241m.\u001b[39mmatch(data_string)\n\u001b[0;32m    348\u001b[0m \u001b[38;5;28;01mif\u001b[39;00m \u001b[38;5;129;01mnot\u001b[39;00m found:\n\u001b[1;32m--> 349\u001b[0m     \u001b[38;5;28;01mraise\u001b[39;00m \u001b[38;5;167;01mValueError\u001b[39;00m(\u001b[38;5;124m\"\u001b[39m\u001b[38;5;124mtime data \u001b[39m\u001b[38;5;132;01m%r\u001b[39;00m\u001b[38;5;124m does not match format \u001b[39m\u001b[38;5;132;01m%r\u001b[39;00m\u001b[38;5;124m\"\u001b[39m \u001b[38;5;241m%\u001b[39m\n\u001b[0;32m    350\u001b[0m                      (data_string, \u001b[38;5;28mformat\u001b[39m))\n\u001b[0;32m    351\u001b[0m \u001b[38;5;28;01mif\u001b[39;00m \u001b[38;5;28mlen\u001b[39m(data_string) \u001b[38;5;241m!=\u001b[39m found\u001b[38;5;241m.\u001b[39mend():\n\u001b[0;32m    352\u001b[0m     \u001b[38;5;28;01mraise\u001b[39;00m \u001b[38;5;167;01mValueError\u001b[39;00m(\u001b[38;5;124m\"\u001b[39m\u001b[38;5;124munconverted data remains: \u001b[39m\u001b[38;5;132;01m%s\u001b[39;00m\u001b[38;5;124m\"\u001b[39m \u001b[38;5;241m%\u001b[39m\n\u001b[0;32m    353\u001b[0m                       data_string[found\u001b[38;5;241m.\u001b[39mend():])\n",
      "\u001b[1;31mValueError\u001b[0m: time data '' does not match format '%m/%d/%Y'"
     ]
    }
   ],
   "source": [
    "#13.3\n",
    "\n",
    "from datetime import datetime\n",
    "\n",
    "\n",
    "now = datetime.now()\n",
    "file = open(\"datefile.txt\", \"r\")\n",
    "todaystring = file.readline()\n",
    "file.close\n",
    "parsedate = datetime.strptime(todaystring, \"%m/%d/%Y\")\n",
    "print(str(parsedate))"
   ]
  },
  {
   "cell_type": "code",
   "execution_count": 12,
   "id": "af1a3aef",
   "metadata": {},
   "outputs": [
    {
     "name": "stdout",
     "output_type": "stream",
     "text": [
      "process 18356\n",
      "process id 152\n",
      "process 18356\n",
      "process id 152\n",
      "process 18356\n",
      "process id 152\n",
      "process 18356\n",
      "process id 152\n",
      "process 18356\n",
      "process id 152\n"
     ]
    }
   ],
   "source": [
    "#15.1\n",
    "from multiprocessing import Process\n",
    "\n",
    "import os\n",
    "def process():\n",
    "    print(\"process\", os.getppid())\n",
    "    print(\"process id\", os.getpid(), sep=\" \")\n",
    "def run(number):\n",
    "    print(\"running\", number)\n",
    "\n",
    "for i in range(5):\n",
    "    process()\n",
    "    thread = Process(target=run, args=(i,))\n",
    "    thread.start()\n",
    "    thread.join()"
   ]
  },
  {
   "cell_type": "code",
   "execution_count": null,
   "id": "84fd692c",
   "metadata": {},
   "outputs": [],
   "source": []
  }
 ],
 "metadata": {
  "kernelspec": {
   "display_name": "Python 3 (ipykernel)",
   "language": "python",
   "name": "python3"
  },
  "language_info": {
   "codemirror_mode": {
    "name": "ipython",
    "version": 3
   },
   "file_extension": ".py",
   "mimetype": "text/x-python",
   "name": "python",
   "nbconvert_exporter": "python",
   "pygments_lexer": "ipython3",
   "version": "3.9.12"
  }
 },
 "nbformat": 4,
 "nbformat_minor": 5
}
