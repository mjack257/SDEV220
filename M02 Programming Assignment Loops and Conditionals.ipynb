{
 "cells": [
  {
   "cell_type": "code",
   "execution_count": 1,
   "id": "b1e263fb",
   "metadata": {},
   "outputs": [
    {
     "name": "stdout",
     "output_type": "stream",
     "text": [
      "Choose a number from 1 and 10: 40\n",
      "too high\n"
     ]
    }
   ],
   "source": [
    "#4.1\n",
    "secret = 10\n",
    "guess = 0\n",
    "while guess < secret:\n",
    "    guess = int(input(\"Choose a number from 1 and 10: \"))\n",
    "    guess += 1\n",
    "    if guess < secret:\n",
    "        print(\"too low\")\n",
    "        break\n",
    "    elif guess > secret:\n",
    "        print(\"too high\")\n",
    "    if guess == secret:\n",
    "        print(\"just right\")\n",
    "\n",
    "\n",
    "\n",
    "\n"
   ]
  },
  {
   "cell_type": "code",
   "execution_count": 2,
   "id": "683cf082",
   "metadata": {},
   "outputs": [
    {
     "name": "stdout",
     "output_type": "stream",
     "text": [
      "cherry\n",
      "pea\n"
     ]
    }
   ],
   "source": [
    "#4.2\n",
    "small = 'cherry'\n",
    "green = 'pea'\n",
    "choices = ['watermelon', 'cherry', 'pea', 'pumpkin']\n",
    "for choice in choices:\n",
    "    if choice == green:\n",
    "        print(choice)\n",
    "    else:\n",
    "        if choice == small:\n",
    "            print(choice)\n",
    "            "
   ]
  },
  {
   "cell_type": "code",
   "execution_count": 3,
   "id": "50087ce1",
   "metadata": {},
   "outputs": [
    {
     "name": "stdout",
     "output_type": "stream",
     "text": [
      "3\n",
      "2\n",
      "1\n",
      "0\n"
     ]
    }
   ],
   "source": [
    "#6.1\n",
    "numbers = [3, 2, 1, 0]\n",
    "for number in numbers:\n",
    "    print(number)"
   ]
  },
  {
   "cell_type": "code",
   "execution_count": 4,
   "id": "05ec9be5",
   "metadata": {},
   "outputs": [
    {
     "name": "stdout",
     "output_type": "stream",
     "text": [
      "Guess: 5\n",
      "too low\n",
      "Guess: 7\n",
      "you found it! \n",
      "Guess: 20\n",
      "oops\n"
     ]
    }
   ],
   "source": [
    "#6.2\n",
    "guess_me = 7\n",
    "number = 1\n",
    "while True:\n",
    "    number = int(input(\"Guess: \"))#pass result to int function\n",
    "    if number < guess_me:\n",
    "        print(\"too low\")\n",
    "    if number == guess_me:\n",
    "        print(\"you found it! \")\n",
    "    if number > guess_me:\n",
    "        print('oops')\n",
    "        break"
   ]
  },
  {
   "cell_type": "code",
   "execution_count": 1,
   "id": "87b6688d",
   "metadata": {},
   "outputs": [
    {
     "name": "stdout",
     "output_type": "stream",
     "text": [
      "Guess: 10\n",
      "oops\n"
     ]
    }
   ],
   "source": [
    "#6.3\n",
    "guess_me = 5\n",
    "for number in range(10):\n",
    "    number = int(input(\"Guess: \"))#pass result to int function\n",
    "    if number < guess_me:\n",
    "        print(\"too low\")\n",
    "    if number == guess_me:\n",
    "        print(\"you found it! \")\n",
    "        break\n",
    "    if number > guess_me:\n",
    "        print('oops')\n",
    "        break\n"
   ]
  },
  {
   "cell_type": "code",
   "execution_count": null,
   "id": "374c4de8",
   "metadata": {},
   "outputs": [],
   "source": []
  },
  {
   "cell_type": "code",
   "execution_count": null,
   "id": "71747cc6",
   "metadata": {},
   "outputs": [],
   "source": []
  },
  {
   "cell_type": "code",
   "execution_count": null,
   "id": "13528892",
   "metadata": {},
   "outputs": [],
   "source": []
  }
 ],
 "metadata": {
  "kernelspec": {
   "display_name": "Python 3 (ipykernel)",
   "language": "python",
   "name": "python3"
  },
  "language_info": {
   "codemirror_mode": {
    "name": "ipython",
    "version": 3
   },
   "file_extension": ".py",
   "mimetype": "text/x-python",
   "name": "python",
   "nbconvert_exporter": "python",
   "pygments_lexer": "ipython3",
   "version": "3.9.12"
  }
 },
 "nbformat": 4,
 "nbformat_minor": 5
}
