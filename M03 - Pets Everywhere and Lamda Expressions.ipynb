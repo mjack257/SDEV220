{
 "cells": [
  {
   "cell_type": "code",
   "execution_count": 1,
   "id": "759a3bab",
   "metadata": {},
   "outputs": [
    {
     "name": "stdout",
     "output_type": "stream",
     "text": [
      "meow\n",
      "Sally,  is just walking around\n",
      "Sally,  is 4 years old \n",
      "purr\n",
      "Simon,  is just walking around\n",
      "Simon,  is 6 years old \n",
      "tiger sound\n",
      "Marcell,  is just walking around\n",
      "Marcell,  is 1 years old \n"
     ]
    }
   ],
   "source": [
    "class Pets():\n",
    "    animals = []\n",
    "    def __init__(self, animals):\n",
    "        self.animals = animals\n",
    "\n",
    "    def walk(self):\n",
    "        for animal in self.animals:\n",
    "            print(animal.sing())\n",
    "            print(animal.walk())\n",
    "            print(animal.talk())\n",
    "\n",
    "class Cat():\n",
    "\n",
    "    def __init__(self, name, age):\n",
    "        self.name = name\n",
    "        self.age = age\n",
    "\n",
    "    def walk(self):\n",
    "        return f'{self.name} is just walking around'\n",
    "    def talk(self):\n",
    "        return f'{self.name} is {self.age} years old '\n",
    "\n",
    "class Simon(Cat):\n",
    "\n",
    "    def __init__(self, name, age):\n",
    "        super().__init__(name, age)\n",
    "        self.sound = \"purr\"\n",
    "    def sing(self):\n",
    "        return f'{self.sound}'\n",
    "\n",
    "class Sally(Cat):\n",
    "\n",
    "    def __init__(self, name, age):\n",
    "        super().__init__(name, age)\n",
    "        self.sound = \"meow\"\n",
    "    def sing(self):\n",
    "        return f'{self.sound}'\n",
    "\n",
    "#1 Add nother Cat\n",
    "class Marcell(Cat):\n",
    "    def __init__(self, name, age):\n",
    "        super().__init__(name, age)\n",
    "        self.sound = \"tiger sound\"\n",
    "    def sing(self):\n",
    "        return f'{self.sound}'\n",
    "\n",
    "#2 Create a list of all of the pets (create 3 cat instances from the above)\n",
    "sally = Sally(\"Sally, \", 4)\n",
    "simon = Simon(\"Simon, \", 6)\n",
    "marcell = Marcell(\"Marcell, \", 1)\n",
    "# Instiating an instance of Sally\n",
    "my_cats = [sally, simon, marcell]\n",
    "\n",
    "\n",
    "\n",
    "#3 Instantiate the Pet class with all your cats use variable my_pets\n",
    "allPets = Pets(my_cats)\n",
    "\n",
    "\n",
    "\n",
    "#4 Output all of the cats walking using the my_pets instance\n",
    "allPets.walk()"
   ]
  },
  {
   "cell_type": "code",
   "execution_count": 3,
   "id": "b3e7439b",
   "metadata": {},
   "outputs": [
    {
     "ename": "NameError",
     "evalue": "name 'add' is not defined",
     "output_type": "error",
     "traceback": [
      "\u001b[1;31m---------------------------------------------------------------------------\u001b[0m",
      "\u001b[1;31mNameError\u001b[0m                                 Traceback (most recent call last)",
      "Input \u001b[1;32mIn [3]\u001b[0m, in \u001b[0;36m<cell line: 13>\u001b[1;34m()\u001b[0m\n\u001b[0;32m     10\u001b[0m storePlusOne \u001b[38;5;241m=\u001b[39m  \u001b[38;5;28mlist\u001b[39m(\u001b[38;5;28mmap\u001b[39m(\u001b[38;5;28;01mlambda\u001b[39;00m x: x \u001b[38;5;241m+\u001b[39m \u001b[38;5;241m1\u001b[39m, store))\n\u001b[0;32m     11\u001b[0m \u001b[38;5;66;03m#sum = reduce(lambda x,y: x +y, store)\u001b[39;00m\n\u001b[1;32m---> 13\u001b[0m \u001b[38;5;28mprint\u001b[39m(\u001b[43madd\u001b[49m(\u001b[38;5;241m3\u001b[39m, \u001b[38;5;241m2\u001b[39m))\n\u001b[0;32m     14\u001b[0m \u001b[38;5;28mprint\u001b[39m(addLambda(\u001b[38;5;241m3\u001b[39m, \u001b[38;5;241m2\u001b[39m))\n\u001b[0;32m     15\u001b[0m \u001b[38;5;28mprint\u001b[39m(evenNumbers)\n",
      "\u001b[1;31mNameError\u001b[0m: name 'add' is not defined"
     ]
    }
   ],
   "source": [
    "#146 Lamda Expressions. I COULD NOT GET IT TO TURN OUT CORRECT\n",
    "\n",
    "#def add(x, y):\n",
    "    #return x + y\n",
    "\n",
    "addLambda = lambda x, y : x + y\n",
    "store = [1,2,3,4,5,6]\n",
    "\n",
    "evenNumbers =  list(filter(lambda x: x % 2 == 0, store))\n",
    "storePlusOne =  list(map(lambda x: x + 1, store))\n",
    "sum = reduce(lambda x,y: x +y, store)\n",
    "\n",
    "print(add(3, 2))\n",
    "print(addLambda(3, 2))\n",
    "print(evenNumbers)\n",
    "print(storePlusOne)\n",
    "print(sum)"
   ]
  },
  {
   "cell_type": "code",
   "execution_count": null,
   "id": "ab4a58c8",
   "metadata": {},
   "outputs": [],
   "source": []
  },
  {
   "cell_type": "code",
   "execution_count": null,
   "id": "4b023f1e",
   "metadata": {},
   "outputs": [],
   "source": []
  }
 ],
 "metadata": {
  "kernelspec": {
   "display_name": "Python 3 (ipykernel)",
   "language": "python",
   "name": "python3"
  },
  "language_info": {
   "codemirror_mode": {
    "name": "ipython",
    "version": 3
   },
   "file_extension": ".py",
   "mimetype": "text/x-python",
   "name": "python",
   "nbconvert_exporter": "python",
   "pygments_lexer": "ipython3",
   "version": "3.9.12"
  }
 },
 "nbformat": 4,
 "nbformat_minor": 5
}
