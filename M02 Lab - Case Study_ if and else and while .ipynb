{
 "cells": [
  {
   "cell_type": "code",
   "execution_count": null,
   "id": "08c1950e",
   "metadata": {},
   "outputs": [
    {
     "name": "stdout",
     "output_type": "stream",
     "text": [
      "what is your last name or zzz to quit: jackson\n",
      "What is your first name: marcell\n",
      "What is your GPA: 3.5\n",
      "jackson marcell 3.5\n",
      "You are on the Dean's List\n",
      "You are the honor roll\n"
     ]
    }
   ],
   "source": [
    "\"\"\" \n",
    "Write a Python app that will accept student names and GPAs and test if the student qualifies for either the Dean's \n",
    "List or the Honor Roll. Your app will:\n",
    "ask for and accept a student's last name.\n",
    "quit processing student records if the last name entered is 'ZZZ'.\n",
    "ask for and accept a student's first name.\n",
    "ask for and accept the student's GPA as a float.\n",
    "test if the student's GPA is 3.5 or greater and, if so, print a message saying that the student has made the Dean's List.\n",
    "test if the student's GPA is 3.25 or greater and, if so, print a message saying that the studnet has made the Honor Roll.\n",
    "Test your app using at least five students.\n",
    "Your header comments need to contain\n",
    "Your name\n",
    "The file name for your app\n",
    "A brief description of what your app will do\n",
    "\"\"\" \n",
    "\n",
    "lastName = input(\"what is your last name or zzz to quit: \")\n",
    "while lastName != \"zzz\":\n",
    "    firstName = input(\"What is your first name: \")\n",
    "    studentGPA = float(input(\"What is your GPA: \"))\n",
    "    print(lastName, firstName, studentGPA)\n",
    "    if studentGPA  >= 3.5:\n",
    "        print(\"You are on the Dean's List\")\n",
    "    if studentGPA >= 3.25:\n",
    "        print(\"You are the honor roll\")\n",
    "    lastName = input(\"what is your last name or zzz to quit: \")"
   ]
  },
  {
   "cell_type": "code",
   "execution_count": null,
   "id": "a170b714",
   "metadata": {},
   "outputs": [],
   "source": []
  }
 ],
 "metadata": {
  "kernelspec": {
   "display_name": "Python 3 (ipykernel)",
   "language": "python",
   "name": "python3"
  },
  "language_info": {
   "codemirror_mode": {
    "name": "ipython",
    "version": 3
   },
   "file_extension": ".py",
   "mimetype": "text/x-python",
   "name": "python",
   "nbconvert_exporter": "python",
   "pygments_lexer": "ipython3",
   "version": "3.9.12"
  }
 },
 "nbformat": 4,
 "nbformat_minor": 5
}
